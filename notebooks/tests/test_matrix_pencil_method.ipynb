{
 "cells": [
  {
   "cell_type": "code",
   "execution_count": null,
   "metadata": {},
   "outputs": [],
   "source": [
    "%load_ext autoreload\n",
    "%autoreload 2"
   ]
  },
  {
   "cell_type": "code",
   "execution_count": null,
   "metadata": {},
   "outputs": [],
   "source": [
    "import numpy as np\n",
    "import scipy as sp\n",
    "import matplotlib.pyplot as plt\n",
    "\n",
    "from blockOpInf.utils import damping"
   ]
  },
  {
   "cell_type": "code",
   "execution_count": null,
   "metadata": {},
   "outputs": [],
   "source": [
    "def f(t):\n",
    "    f1 = 5.0 * np.exp(-1.0 * t) * np.sin(50.0 * t)\n",
    "    f2 = 2.0 * np.exp(-0.5 * t) * np.sin(20.0 * t)\n",
    "    f3 = -0.5 * np.exp(0.05 * t) * np.sin(40.0 * t)\n",
    "    f4 = 0.1\n",
    "    return f1 + f2 + f3 + f4\n",
    "\n",
    "def w(t, sigma, seed=None):\n",
    "    rng = np.random.default_rng(seed=seed)\n",
    "    return rng.normal(loc=0.0, scale=sigma, size=t.shape)\n",
    "\n",
    "def z(t, sigma=0.25, seed=None):\n",
    "    return f(t) + w(t, sigma, seed)"
   ]
  },
  {
   "cell_type": "code",
   "execution_count": null,
   "metadata": {},
   "outputs": [],
   "source": [
    "dt = 0.0002\n",
    "t = np.arange(0.0, 2.0+dt, dt)\n",
    "y_f = f(t)\n",
    "y_z = z(t)\n",
    "\n",
    "fig, ax = plt.subplots()\n",
    "ax.plot(t, y_f, color='black', alpha=0.85, label=\"f(t)\")\n",
    "ax.plot(t, y_z, color=\"C3\", linewidth=0.5, label=\"z(t)\")\n",
    "ax.axhline(0.0, color=\"black\", linewidth=0.5, alpha=0.5, linestyle=\"--\")\n",
    "ax.axvline(0.0, color=\"black\", linewidth=0.5, alpha=0.5, linestyle=\"--\")\n",
    "ax.set_xlabel(\"t\")\n",
    "ax.set_ylabel(\"y\")\n",
    "ax.legend()\n",
    "plt.show()"
   ]
  },
  {
   "cell_type": "code",
   "execution_count": null,
   "metadata": {},
   "outputs": [],
   "source": [
    "k = 3000\n",
    "t = t[:k]\n",
    "y_f = y_f[:k]"
   ]
  },
  {
   "cell_type": "code",
   "execution_count": null,
   "metadata": {},
   "outputs": [],
   "source": [
    "damping(t, y_f, N=100, threshold=0.01, rho=10.0)"
   ]
  },
  {
   "cell_type": "code",
   "execution_count": null,
   "metadata": {},
   "outputs": [],
   "source": [
    "damping(t, y_f, N=100, threshold=0.01, rho=100.0)"
   ]
  },
  {
   "cell_type": "code",
   "execution_count": null,
   "metadata": {},
   "outputs": [],
   "source": [
    "damping(t, y_f, N=100, threshold=0.01, rho=1000.0)"
   ]
  },
  {
   "cell_type": "code",
   "execution_count": null,
   "metadata": {},
   "outputs": [],
   "source": [
    "print(damping(t, y_f, N=100, threshold=0.01, rho=10000.0))"
   ]
  }
 ],
 "metadata": {
  "kernelspec": {
   "display_name": ".venv",
   "language": "python",
   "name": "python3"
  },
  "language_info": {
   "codemirror_mode": {
    "name": "ipython",
    "version": 3
   },
   "file_extension": ".py",
   "mimetype": "text/x-python",
   "name": "python",
   "nbconvert_exporter": "python",
   "pygments_lexer": "ipython3",
   "version": "3.10.12"
  }
 },
 "nbformat": 4,
 "nbformat_minor": 2
}
