{
 "cells": [
  {
   "cell_type": "code",
   "execution_count": null,
   "metadata": {},
   "outputs": [],
   "source": [
    "import numpy as np\n",
    "import scipy as sp\n",
    "import matplotlib.pyplot as plt\n",
    "\n",
    "from blockOpInf.utils import damping\n",
    "from blockOpInf.dataset import read_dataset"
   ]
  },
  {
   "cell_type": "code",
   "execution_count": null,
   "metadata": {},
   "outputs": [],
   "source": [
    "frequencies = np.array([60.3136, 239.7978, 303.7807, 575.1929])"
   ]
  },
  {
   "cell_type": "code",
   "execution_count": null,
   "metadata": {},
   "outputs": [],
   "source": [
    "k0, k1 = 300, -1\n",
    "name = \"wing-445.6\"\n",
    "mach_number_list = [0.901, 0.957, 1.141]\n",
    "dynamic_pressure_list = [50, 70, 90]\n",
    "\n",
    "mach_number = mach_number_list[0]\n",
    "# dynamic_pressure = dynamic_pressure_list[0]\n",
    "dynamic_pressures_mpm = []\n",
    "for mach_number in mach_number_list:\n",
    "    dampings = []\n",
    "    for dynamic_pressure in dynamic_pressure_list:\n",
    "        path = f\"/storage/LMproj/agard/viscous/m{mach_number:.3f}_q{dynamic_pressure:d}/unsteady\"\n",
    "        print(f\"-- [Mach number, Dynamic pressure]\\t[{mach_number:.3f}, {dynamic_pressure:d}] --\")\n",
    "\n",
    "        # Load structural data\n",
    "        dataset_SD_FOM = read_dataset(f\"{path:s}/{name:s}_aehist.h5\")\n",
    "        QsFOM_ = dataset_SD_FOM.Q\n",
    "        tsFOM = dataset_SD_FOM.t\n",
    "\n",
    "        # Compute damping\n",
    "        dampings.append(damping(tsFOM[k0:k1], QsFOM_[0, k0:k1], threshold=0.001, rho=1000.0)[0])\n",
    "\n",
    "    dynamic_pressure_flutter = np.interp(0.0, dampings, dynamic_pressure_list)\n",
    "    dynamic_pressures_mpm.append(dynamic_pressure_flutter.astype(float))\n",
    "print(dynamic_pressures_mpm)"
   ]
  },
  {
   "cell_type": "code",
   "execution_count": null,
   "metadata": {},
   "outputs": [],
   "source": [
    "# Training set grid\n",
    "mach_numbers_train = [0.901, 0.957, 1.141]\n",
    "dynamic_pressures_train = [50, 70, 90]\n",
    "m_train_grid, q_train_grid = np.meshgrid(mach_numbers_train, dynamic_pressures_train)\n",
    "\n",
    "# Experimental flutter boundary\n",
    "mach_numbers_yates1987 = [0.499, 0.678, 0.901, 0.957, 1.072, 1.141]\n",
    "dynamic_pressures_yates1987 = [133.10, 115.70, 89.30, 61.20, 66.10, 105.30]\n",
    "\n",
    "# Computational flutter boundary - other literature\n",
    "dynamic_pressures_silva2014 = [137, 125, 95, 75, 86, 215]\n",
    "\n",
    "# Computational flutter boundary - fun3d and matrix pencil method"
   ]
  },
  {
   "cell_type": "code",
   "execution_count": null,
   "metadata": {},
   "outputs": [],
   "source": [
    "fig, ax = plt.subplots()\n",
    "ax.scatter(m_train_grid, q_train_grid, label=\"Training set grid\",\n",
    "           marker=\".\", color=\"C2\", facecolors=\"None\")\n",
    "ax.scatter(mach_numbers_yates1987, dynamic_pressures_yates1987, label=\"Experiment (Yates 1987)\",\n",
    "        color=\"black\")\n",
    "ax.scatter(mach_numbers_yates1987, dynamic_pressures_silva2014, label=\"FUN3D NS SA (Silva 2014)\",\n",
    "        )\n",
    "ax.scatter(mach_numbers_train, dynamic_pressures_mpm, label=\"Matrix pencil method\",\n",
    "        color=\"C2\")\n",
    "ax.set_xlim([0.85, 1.20])\n",
    "ax.set_xlabel(\"Mach Number (-)\")\n",
    "ax.set_ylabel(\"Dynamic Pressure (psf)\")\n",
    "ax.legend()\n",
    "plt.show()"
   ]
  }
 ],
 "metadata": {
  "kernelspec": {
   "display_name": ".venv",
   "language": "python",
   "name": "python3"
  },
  "language_info": {
   "codemirror_mode": {
    "name": "ipython",
    "version": 3
   },
   "file_extension": ".py",
   "mimetype": "text/x-python",
   "name": "python",
   "nbconvert_exporter": "python",
   "pygments_lexer": "ipython3",
   "version": "3.10.12"
  }
 },
 "nbformat": 4,
 "nbformat_minor": 2
}
